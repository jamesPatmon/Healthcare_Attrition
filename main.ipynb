{
 "cells": [
  {
   "cell_type": "code",
   "execution_count": 11,
   "metadata": {},
   "outputs": [],
   "source": [
    "from pathlib import Path\n",
    "\n",
    "import pandas as pd\n",
    "from pandasql import sqldf\n",
    "\n",
    "import utils\n",
    "\n",
    "P_SQL = lambda q: sqldf(q, globals())"
   ]
  },
  {
   "cell_type": "code",
   "execution_count": 12,
   "metadata": {},
   "outputs": [
    {
     "name": "stdout",
     "output_type": "stream",
     "text": [
      "145\n",
      "199\n",
      "0.7286432160804021\n",
      "{'min': 18, 'max': 58, 'mean': 31, 'median': 29, 'mode': 29, 'stdev': 9, '2_stdev': 18, '3_stdev': 27, 'empirical_rule_68': (22, 40), 'empirical_rule_95': (13, 49), 'empirical_rule_99': (4, 58), 'empirical_rule_is_out_of_bounds': True, 'coefficient_of_variation': 0.29}\n"
     ]
    }
   ],
   "source": [
    "filename = 'data/healthcare_attrition.csv'\n",
    "\n",
    "df = pd.read_csv(Path(utils.root(), filename), sep=',')\n",
    "# print(df)\n",
    "\n",
    "q_attrition_by_age = '''\n",
    "SELECT employeeid, age, attrition\n",
    "FROM df\n",
    "WHERE attrition = 'Yes'\n",
    "'''\n",
    "\n",
    "resultset = P_SQL(q_attrition_by_age)\n",
    "attrition_age_sr = resultset['Age']\n",
    "\n",
    "population_size = resultset['EmployeeID'].count()\n",
    "age_sum = attrition_age_sr.sum()\n",
    "\n",
    "count = sum(i >= 18 and i <= 33 for i in attrition_age_sr)\n",
    "\n",
    "print(count)\n",
    "print(population_size)\n",
    "print(count / population_size)\n",
    "\n",
    "print(utils.stats(attrition_age_sr))\n"
   ]
  }
 ],
 "metadata": {
  "interpreter": {
   "hash": "4e428d245141f965806a18534d980cc569cf870a68699e4c65f89e546af4fbc1"
  },
  "kernelspec": {
   "display_name": "Python 3.8.2 64-bit ('venv': venv)",
   "name": "python3"
  },
  "language_info": {
   "codemirror_mode": {
    "name": "ipython",
    "version": 3
   },
   "file_extension": ".py",
   "mimetype": "text/x-python",
   "name": "python",
   "nbconvert_exporter": "python",
   "pygments_lexer": "ipython3",
   "version": "3.8.2"
  },
  "orig_nbformat": 4
 },
 "nbformat": 4,
 "nbformat_minor": 2
}
