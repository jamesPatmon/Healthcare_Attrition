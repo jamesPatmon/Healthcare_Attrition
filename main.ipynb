{
 "cells": [
  {
   "cell_type": "markdown",
   "metadata": {},
   "source": [
    "#### Scenario\n",
    "A healthcare provider initiated an attrition analysis. They wish to know their current attrition rate and, if the rate is greater than ten percent, what are the contributing factors and potential solutions.\n",
    "\n",
    "#### Problem Statement\n",
    "How can we increase employee retention while minimizing costs?"
   ]
  },
  {
   "cell_type": "code",
   "execution_count": 1,
   "metadata": {},
   "outputs": [],
   "source": [
    "from pathlib import Path\n",
    "from math import ceil\n",
    "\n",
    "import pandas as pd\n",
    "from pandasql import sqldf\n",
    "\n",
    "import utils\n",
    "\n",
    "P_SQL = lambda q: sqldf(q, globals())"
   ]
  },
  {
   "cell_type": "code",
   "execution_count": 2,
   "metadata": {},
   "outputs": [],
   "source": [
    "# Import file\n",
    "filename = 'data/healthcare_attrition.csv'\n",
    "df = pd.read_csv(Path(utils.root(), filename), sep=',')\n",
    "\n",
    "# Constants\n",
    "EMPLOYED_SAMPLE_DF = df.query(\"Attrition == 'No\")\n",
    "ATTRITION_SAMPLE_DF = df.query(\"Attrition == 'Yes'\")\n",
    "\n",
    "EMPLOYED_SAMPLE_SIZE = EMPLOYED_SAMPLE_DF.shape[0]\n",
    "ATTRITION_SAMPLE_SIZE = ATTRITION_SAMPLE_DF.shape[0]"
   ]
  },
  {
   "cell_type": "code",
   "execution_count": 3,
   "metadata": {},
   "outputs": [
    {
     "name": "stdout",
     "output_type": "stream",
     "text": [
      "Attrition Rate: 13.47%\n"
     ]
    }
   ],
   "source": [
    "# ATTRITION RATE\n",
    "attrition_sr = df['Attrition'] # isolating Attrition column\n",
    "\n",
    "attrition_count = attrition_sr.value_counts()['Yes']\n",
    "num_of_employees = attrition_sr.count()\n",
    "\n",
    "attrition_rate_percentage = round(attrition_count / num_of_employees, 2) * 100\n",
    "print(f'The attrition rate is approximately {attrition_rate_percentage}%')"
   ]
  },
  {
   "cell_type": "code",
   "execution_count": 4,
   "metadata": {},
   "outputs": [
    {
     "name": "stdout",
     "output_type": "stream",
     "text": [
      "72.86% of attrition occurs between ages 22 and 40 (1 standard dev from mean).\n"
     ]
    }
   ],
   "source": [
    "# ATTRITION BY AGE\n",
    "attrition_df = df.query(\"Attrition == 'Yes'\")\n",
    "attrition_population_size = ATTRITION_SAMPLE_DF['EmployeeID'].count()\n",
    "\n",
    "attrition_age_sr = ATTRITION_SAMPLE_DF['Age'] # Isolate age column\n",
    "\n",
    "# NOTE: The empirical rule states that 68% of data are within 1 standard deviation from the mean. The following code counts the number of data points within 1 standard deviation from the mean and divides it by the attrition count (population size)--the actual percentage of attrition that occurs within 1 standard deviation of the mean.\n",
    "empirical_rule_68 = utils.stats(attrition_age_sr)['empirical_rule_68']\n",
    "\n",
    "# Counts of data points within 1 standard deviation of the mean.\n",
    "one_stddev_count = 0\n",
    "for i in attrition_age_sr:\n",
    "  if i >= empirical_rule_68[0] and i <= empirical_rule_68[1]:\n",
    "    one_stddev_count += 1\n",
    "\n",
    "# Percentage of data points that fall within 1 standard deviation of mean\n",
    "one_stddev_percentage = round((one_stddev_count / ATTRITION_SAMPLE_SIZE) * 100, 2)\n",
    "\n",
    "print(f'{one_stddev_percentage}% of attrition occurs between ages {empirical_rule_68[0]} and {empirical_rule_68[1]} (1 standard dev from mean).')"
   ]
  },
  {
   "cell_type": "code",
   "execution_count": 8,
   "metadata": {},
   "outputs": [
    {
     "name": "stdout",
     "output_type": "stream",
     "text": [
      "         Travel_Type  Count Percentage_of_Observations\n",
      "0      Travel_Rarely   1058                   0.716317\n",
      "1  Travel_Frequently    263                   0.178064\n",
      "2         Non-Travel    156                   0.105619\n",
      "         Travel_Type  Count Percentage_of_Observations\n",
      "0      Travel_Rarely    126                   0.633166\n",
      "1  Travel_Frequently     57                   0.286432\n",
      "2         Non-Travel     16                   0.080402\n"
     ]
    }
   ],
   "source": [
    "# ATTRITION BY TRAVEL\n",
    "# Null Hypothesis: 17.8% of employees who left the company frequently traveled.\n",
    "# Alternate Hypothesis: > 17.8% of employee who left the company frequently traveled.\n",
    "#testing if statistical significance exists\n",
    "# independent var = travel\n",
    "# dependent var = attrition\n",
    "def travelfunc(sr: pd.Series, n: int) -> pd.DataFrame:\n",
    "    sr_counts = sr.value_counts()\n",
    "    df = sr_counts.to_frame(name='Count').reset_index()\n",
    "    df = df.rename(columns={'index': 'Travel_Type'})\n",
    "    df['Percentage_of_Observations'] = None\n",
    "    \n",
    "    for row in df.itertuples():\n",
    "        percentage = row.Count / n\n",
    "        df.at[row.Index, 'Percentage_of_Observations'] = percentage\n",
    "        \n",
    "    return df\n",
    "\n",
    "travel_df = travelfunc(ATTRITION_SAMPLE_DF['BusinessTravel'], attrition_population_size)\n",
    "\n",
    "employed_travel_sr = df.query(\"Attrition == 'No'\")\n",
    "employed_population_size = df.query(\"Attrition == 'No'\")['EmployeeID'].count()\n",
    "employed_travel_df = travelfunc(employed_travel_sr['BusinessTravel'], employed_population_size)\n",
    "\n",
    "print(employed_travel_df)\n",
    "print(travel_df)\n",
    "\n",
    "# TODO: Test null hypothesis"
   ]
  },
  {
   "cell_type": "code",
   "execution_count": null,
   "metadata": {},
   "outputs": [],
   "source": []
  }
 ],
 "metadata": {
  "interpreter": {
   "hash": "4e428d245141f965806a18534d980cc569cf870a68699e4c65f89e546af4fbc1"
  },
  "kernelspec": {
   "display_name": "Python 3.8.2 64-bit ('venv': venv)",
   "name": "python3"
  },
  "language_info": {
   "codemirror_mode": {
    "name": "ipython",
    "version": 3
   },
   "file_extension": ".py",
   "mimetype": "text/x-python",
   "name": "python",
   "nbconvert_exporter": "python",
   "pygments_lexer": "ipython3",
   "version": "3.8.2"
  },
  "orig_nbformat": 4
 },
 "nbformat": 4,
 "nbformat_minor": 2
}
