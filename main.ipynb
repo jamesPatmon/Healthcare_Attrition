{
 "cells": [
  {
   "cell_type": "markdown",
   "metadata": {},
   "source": [
    "#### Scenario\n",
    "A healthcare provider initiated an attrition analysis. They wish to know their current attrition rate and, if the rate is greater than ten percent, what are the contributing factors and potential solutions.\n",
    "\n",
    "#### Problem Statement\n",
    "How can we increase employee retention while minimizing costs?"
   ]
  },
  {
   "cell_type": "code",
   "execution_count": 1,
   "metadata": {},
   "outputs": [],
   "source": [
    "from pathlib import Path\n",
    "from math import ceil\n",
    "\n",
    "import pandas as pd\n",
    "from pandasql import sqldf\n",
    "\n",
    "import utils\n",
    "\n",
    "P_SQL = lambda q: sqldf(q, globals())"
   ]
  },
  {
   "cell_type": "code",
   "execution_count": 2,
   "metadata": {},
   "outputs": [],
   "source": [
    "# IMPORT FILE\n",
    "filename = 'data/healthcare_attrition.csv'\n",
    "df = pd.read_csv(Path(utils.root(), filename), sep=',')"
   ]
  },
  {
   "cell_type": "code",
   "execution_count": 3,
   "metadata": {},
   "outputs": [
    {
     "name": "stdout",
     "output_type": "stream",
     "text": [
      "The attrition rate is approximately 13.0%\n"
     ]
    }
   ],
   "source": [
    "# ATTRITION RATE\n",
    "attrition_sr = df['Attrition'] # isolating Attrition column\n",
    "\n",
    "attrition_count = attrition_sr.value_counts()['Yes']\n",
    "num_of_employees = attrition_sr.count()\n",
    "\n",
    "attrition_rate_percentage = round(attrition_count / num_of_employees, 2) * 100\n",
    "print(f'The attrition rate is approximately {attrition_rate_percentage}%')"
   ]
  },
  {
   "cell_type": "code",
   "execution_count": 4,
   "metadata": {},
   "outputs": [
    {
     "name": "stdout",
     "output_type": "stream",
     "text": [
      "0.7286432160804021% of attrition occurs between the ages of 22 and 40 (1 standard dev from mean).\n"
     ]
    }
   ],
   "source": [
    "# ATTRITION BY AGE\n",
    "\n",
    "attrition_by_age_query = '''\n",
    "SELECT *\n",
    "FROM df\n",
    "WHERE attrition = 'Yes'\n",
    "'''\n",
    "\n",
    "resultset = P_SQL(attrition_by_age_query)\n",
    "attrition_age_sr = resultset['Age']\n",
    "\n",
    "# The empirical rule states that 68% of data are within one stddev from the mean. We check here to identify the true spread within one stddev from mean.\n",
    "empirical_rule_68 = utils.stats(attrition_age_sr)['empirical_rule_68']\n",
    "\n",
    "population_size = resultset['EmployeeID'].count()\n",
    "num_of_data_within_one_stddev = sum(i >= empirical_rule_68[0] and i <= empirical_rule_68[1] for i in attrition_age_sr)\n",
    "\n",
    "percentage_of_data_within_one_stddev = num_of_data_within_one_stddev / population_size\n",
    "\n",
    "print(f'''{percentage_of_data_within_one_stddev}% of attrition occurs between the ages of {empirical_rule_68[0]} and {empirical_rule_68[1]} (1 standard dev from mean).''')\n",
    "\n",
    "# This sample will be the focus of analysis, so we refactor the dataframe to reflect that here\n",
    "attrition_by_age_query = f'''\n",
    "SELECT *\n",
    "FROM df\n",
    "WHERE attrition = 'Yes'\n",
    "  AND age BETWEEN {empirical_rule_68[0]} AND {empirical_rule_68[1]}\n",
    "ORDER BY age\n",
    "'''\n",
    "\n",
    "df = P_SQL(attrition_by_age_query)"
   ]
  }
 ],
 "metadata": {
  "interpreter": {
   "hash": "4e428d245141f965806a18534d980cc569cf870a68699e4c65f89e546af4fbc1"
  },
  "kernelspec": {
   "display_name": "Python 3.8.2 64-bit ('venv': venv)",
   "name": "python3"
  },
  "language_info": {
   "codemirror_mode": {
    "name": "ipython",
    "version": 3
   },
   "file_extension": ".py",
   "mimetype": "text/x-python",
   "name": "python",
   "nbconvert_exporter": "python",
   "pygments_lexer": "ipython3",
   "version": "3.8.2"
  },
  "orig_nbformat": 4
 },
 "nbformat": 4,
 "nbformat_minor": 2
}
