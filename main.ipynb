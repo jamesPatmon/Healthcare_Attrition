{
 "cells": [
  {
   "cell_type": "markdown",
   "metadata": {},
   "source": [
    "#### Scenario\n",
    "A healthcare provider initiated an attrition analysis. They wish to know their current attrition rate and, if the rate is greater than ten percent, what are the contributing factors and potential solutions.\n",
    "\n",
    "#### Problem Statement\n",
    "How can we increase employee retention while minimizing costs?"
   ]
  },
  {
   "cell_type": "code",
   "execution_count": 31,
   "metadata": {},
   "outputs": [],
   "source": [
    "from pathlib import Path\n",
    "from math import asin, ceil, sqrt\n",
    "from typing import List\n",
    "\n",
    "import pandas as pd\n",
    "from pandasql import sqldf\n",
    "from statsmodels.stats.proportion import proportions_ztest\n",
    "\n",
    "import utils\n",
    "\n",
    "P_SQL = lambda q: sqldf(q, globals())"
   ]
  },
  {
   "cell_type": "code",
   "execution_count": 32,
   "metadata": {},
   "outputs": [],
   "source": [
    "# Import file\n",
    "filename = 'data/healthcare_attrition.csv'\n",
    "df = pd.read_csv(Path(utils.root(), filename), sep=',')\n",
    "\n",
    "# Constants\n",
    "EMPL_SAMPLE_DF = df.query(\"Attrition == 'No'\") # employed\n",
    "ATTR_SAMPLE_DF = df.query(\"Attrition == 'Yes'\") # attrition\n",
    "\n",
    "EMPL_SAMPLE_SIZE = EMPL_SAMPLE_DF.shape[0]\n",
    "ATTR_SAMPLE_SIZE = ATTR_SAMPLE_DF.shape[0]"
   ]
  },
  {
   "cell_type": "markdown",
   "metadata": {},
   "source": [
    "## Attrition Rate"
   ]
  },
  {
   "cell_type": "code",
   "execution_count": 33,
   "metadata": {},
   "outputs": [
    {
     "name": "stdout",
     "output_type": "stream",
     "text": [
      "The attrition rate is approximately 12.0%\n"
     ]
    }
   ],
   "source": [
    "# ATTRITION RATE\n",
    "attrition_sr = df['Attrition'] # isolating Attrition column\n",
    "\n",
    "attrition_count = attrition_sr.value_counts()['Yes']\n",
    "num_of_employees = attrition_sr.count()\n",
    "\n",
    "attrition_rate_percentage = round(attrition_count / num_of_employees, 2) * 100\n",
    "print(f'The attrition rate is approximately {attrition_rate_percentage}%')"
   ]
  },
  {
   "cell_type": "markdown",
   "metadata": {},
   "source": [
    "### <u>Attrition by Age</u>"
   ]
  },
  {
   "cell_type": "code",
   "execution_count": 34,
   "metadata": {},
   "outputs": [
    {
     "name": "stdout",
     "output_type": "stream",
     "text": [
      "72.86% of attrition occurs between ages 22 and 40 (1 standard dev from mean).\n"
     ]
    }
   ],
   "source": [
    "# ATTRITION BY AGE\n",
    "attrition_age_sr = ATTR_SAMPLE_DF['Age'] # Isolate age column\n",
    "\n",
    "# NOTE: The empirical rule states that 68% of data are within 1 standard deviation from the mean. \n",
    "# The following code counts the number of data points within 1 standard deviation from the mean \n",
    "# and divides it by the attrition count (population size)--the actual percentage of attrition that \n",
    "# occurs within 1 standard deviation of the mean.\n",
    "empirical_rule_68 = utils.stats(attrition_age_sr)['empirical_rule_68']\n",
    "\n",
    "# Counts of data points within 1 standard deviation of the mean.\n",
    "one_stddev_count = 0\n",
    "for i in attrition_age_sr:\n",
    "  if i >= empirical_rule_68[0] and i <= empirical_rule_68[1]:\n",
    "    one_stddev_count += 1\n",
    "\n",
    "# Percentage of data points that fall within 1 standard deviation of mean\n",
    "one_stddev_percentage = round((one_stddev_count / ATTR_SAMPLE_SIZE) * 100, 2)\n",
    "\n",
    "print(f'{one_stddev_percentage}% of attrition occurs between ages {empirical_rule_68[0]} and '\n",
    "      f'{empirical_rule_68[1]} (1 standard dev from mean).')"
   ]
  },
  {
   "cell_type": "markdown",
   "metadata": {},
   "source": [
    "### <u>Attrition by Frequent Travel</u>\n",
    "Write here about how you came to your conclusion, how the data is statistically relevant, and the effect size. This would include formulas for the ztest, pooled proportion, etc. Talk about how you tested for significance (and the formulas used) then tested for effect size.\n",
    "\n",
    "Cohen H indicates small effect. h = .2: small effect, h = .5: medium effect, h = .8: large effect"
   ]
  },
  {
   "cell_type": "code",
   "execution_count": 35,
   "metadata": {},
   "outputs": [
    {
     "name": "stdout",
     "output_type": "stream",
     "text": [
      "z-score: 3.6513\n",
      "p-value: 0.0003\n",
      "0.26\n"
     ]
    }
   ],
   "source": [
    "# ATTRITION BY TRAVEL\n",
    "\n",
    "\n",
    "def freq_trav_cts(*dfs) -> List:\n",
    "    lst = []\n",
    "    for df in dfs:\n",
    "        sr = df['BusinessTravel'].value_counts()\n",
    "        df_ = sr.to_frame(name='Count').reset_index().rename(columns={'index': 'Travel_Type'})\n",
    "        count = df_.loc[df_['Travel_Type'] == 'Travel_Frequently'].at[1, 'Count']\n",
    "        \n",
    "        lst.append(count)\n",
    "    \n",
    "    return lst\n",
    "\n",
    "\n",
    "attr_freq_trav_ct, empl_freq_trav_ct = freq_trav_cts(ATTR_SAMPLE_DF, EMPL_SAMPLE_DF)\n",
    "\n",
    "count = [attr_freq_trav_ct, empl_freq_trav_ct]\n",
    "nobs = [ATTR_SAMPLE_SIZE, EMPL_SAMPLE_SIZE]\n",
    "\n",
    "stat, pval = proportions_ztest(count, nobs)\n",
    "\n",
    "print(f'z-score: {round(stat, 4)}\\np-value: {round(pval, 4)}')\n",
    "\n",
    "p1 = attr_freq_trav_ct / ATTR_SAMPLE_SIZE\n",
    "p2 = empl_freq_trav_ct / EMPL_SAMPLE_SIZE\n",
    "\n",
    "def cohen_h(p1: float, p2: float) -> float:\n",
    "    p1_sqrt, p2_sqrt = sqrt(p1), sqrt(p2)\n",
    "    h = (asin(p1_sqrt) - asin(p2_sqrt)) * 2\n",
    "    return round(abs(h), 2)\n",
    "\n",
    "print(cohen_h(p1, p2))\n",
    "# pval = 0.0003. Anything less than 0.001 is considered statistically highly significant\n",
    "# testing"
   ]
  },
  {
   "cell_type": "code",
   "execution_count": null,
   "metadata": {},
   "outputs": [],
   "source": []
  }
 ],
 "metadata": {
  "interpreter": {
   "hash": "4e428d245141f965806a18534d980cc569cf870a68699e4c65f89e546af4fbc1"
  },
  "kernelspec": {
   "display_name": "Python 3 (ipykernel)",
   "language": "python",
   "name": "python3"
  },
  "language_info": {
   "codemirror_mode": {
    "name": "ipython",
    "version": 3
   },
   "file_extension": ".py",
   "mimetype": "text/x-python",
   "name": "python",
   "nbconvert_exporter": "python",
   "pygments_lexer": "ipython3",
   "version": "3.8.2"
  }
 },
 "nbformat": 4,
 "nbformat_minor": 2
}
