{
 "cells": [
  {
   "cell_type": "markdown",
   "metadata": {},
   "source": [
    "#### Scenario\n",
    "A healthcare provider initiated an attrition analysis. They wish to know their current attrition rate and, if the rate is greater than ten percent, what are the contributing factors and potential solutions.\n",
    "\n",
    "#### Problem Statement\n",
    "How can we increase employee retention while minimizing costs?"
   ]
  },
  {
   "cell_type": "code",
   "execution_count": 9,
   "metadata": {},
   "outputs": [],
   "source": [
    "import decimal\n",
    "import matplotlib.pyplot as plt\n",
    "from pathlib import Path\n",
    "from typing import List, Dict, Tuple, Callable\n",
    "from math import ceil, sqrt, modf\n",
    "\n",
    "import pandas as pd\n",
    "import seaborn as sns\n",
    "from pandasql import sqldf\n",
    "from statistics import median, stdev\n",
    "from statsmodels.stats.weightstats import ztest\n",
    "\n",
    "import utils\n",
    "\n",
    "# Import file\n",
    "filename = 'data/healthcare_attrition.csv'\n",
    "raw_df = pd.read_csv(Path(utils.root(), filename), sep=',')\n",
    "\n",
    "employed_df = raw_df.query(\"Attrition == 'No'\")\n",
    "attrited_df = raw_df.query(\"Attrition == 'Yes'\")"
   ]
  },
  {
   "cell_type": "markdown",
   "metadata": {},
   "source": [
    "### Samples\n",
    "talk about how you got the sizes and got the sample. Used sample size calculator to determine sample size."
   ]
  },
  {
   "cell_type": "code",
   "execution_count": 2,
   "metadata": {},
   "outputs": [],
   "source": [
    "# sample_size = 100\n",
    "def samples(*, is_employed: bool) -> pd.Series:\n",
    "    population = None\n",
    "    if is_employed:\n",
    "        population = raw_df.query(\"Attrition == 'No'\")\n",
    "    else:\n",
    "        population = raw_df.query(\"Attrition == 'Yes'\")\n",
    "    return lst"
   ]
  },
  {
   "cell_type": "markdown",
   "metadata": {},
   "source": [
    "## Attrition Rate"
   ]
  },
  {
   "cell_type": "code",
   "execution_count": 11,
   "metadata": {},
   "outputs": [
    {
     "name": "stdout",
     "output_type": "stream",
     "text": [
      "The attrition rate is approximately 12.0%\n"
     ]
    }
   ],
   "source": [
    "# ATTRITION RATE\n",
    "attrited_count = attrited_df.count()\n",
    "total_employees = raw_df['Attrition'].count()\n",
    "\n",
    "attrition_rate_percentage = round(attrition_count / total_employees, 2) * 100\n",
    "print(f'The attrition rate is approximately {attrition_rate_percentage}%')"
   ]
  },
  {
   "cell_type": "markdown",
   "metadata": {},
   "source": [
    "## Attrition by Age\n",
    "Testing if age affects attrition. Found that the median age of the attrited group is lower than the employed group. Further analysis supports that age plays a significant role."
   ]
  },
  {
   "cell_type": "code",
   "execution_count": 4,
   "metadata": {},
   "outputs": [
    {
     "name": "stdout",
     "output_type": "stream",
     "text": [
      "\n",
      "CHART\n",
      "---------------\n"
     ]
    },
    {
     "data": {
      "image/png": "[encoded data removed]",
      "text/plain": [
       "<Figure size 432x288 with 1 Axes>"
      ]
     },
     "metadata": {
      "needs_background": "light"
     },
     "output_type": "display_data"
    },
    {
     "name": "stdout",
     "output_type": "stream",
     "text": [
      "\n",
      "SUMMARY\n",
      "---------------\n",
      "pval                 0.000\n",
      "cohens_d             0.715\n",
      "ci_68_lower         22.000\n",
      "ci_68_upper         40.000\n",
      "empl_p_within_ci     0.660\n",
      "attr_p_within_ci     0.730\n",
      "empl_mean           37.000\n",
      "attr_mean           31.000\n",
      "dtype: float64\n"
     ]
    }
   ],
   "source": [
    "def age_test(empl_df: pd.DataFrame, attr_df: pd.DataFrame) -> pd.DataFrame:\n",
    "    empl_age_df = empl_df['Age']\n",
    "    attr_age_df = attr_df['Age']\n",
    "    \n",
    "    pval = utils.pval_unequal_stdev(empl_age_df, attr_age_df)\n",
    "    cohens_d = utils.cohens_d(empl_age_df, attr_age_df)\n",
    "    \n",
    "    ci, empl_p, attr_p = utils.ci(empl_age_df, attr_age_df)\n",
    "    empl_mean, attr_mean = utils.means(empl_age_df, attr_age_df)\n",
    "    \n",
    "    dict_ = {\n",
    "        'pval': [pval],\n",
    "        'cohens_d': [cohens_d],\n",
    "        'ci_lower': [ci[0]],\n",
    "        'ci_upper': [ci[1]],\n",
    "        'empl_p': [empl_p],\n",
    "        'attr_p': [attr_p],\n",
    "        'empl_age_mean': [empl_mean],\n",
    "        'attr_age_mean': [attr_mean]\n",
    "    }\n",
    "    return pd.DataFrame(dict_)\n",
    "\n",
    "\n",
    "def plot_mean_ages(empl_age: float, attr_age: float) -> None:\n",
    "    print(utils.create_title('chart'))\n",
    "    y = ['Employed', 'Attrited']\n",
    "    x = [empl_age, attr_age]\n",
    "\n",
    "    plt.barh(y, x)\n",
    "    plt.xlabel(\"Age\")\n",
    "    plt.title(\"Median Age\")\n",
    "    plt.show()\n",
    "\n",
    "\n",
    "results = utils.run_test(employed_df, attrited_df, colname='Age', need_mean=True)\n",
    "results = utils.median_(results)\n",
    "plot_mean_ages(results['empl_mean'], results['attr_mean'])\n",
    "\n",
    "print(utils.create_title('summary'))\n",
    "print(results)\n",
    "# TODO: use seaborn to plot median age"
   ]
  },
  {
   "cell_type": "markdown",
   "metadata": {},
   "source": [
    "## Attrition by Frequent Travel\n",
    "***\n",
    "Write here about how you came to your conclusion, how the data is statistically relevant, and the effect size. This would include formulas for the ztest, pooled proportion, etc. Talk about how you tested for significance (and the formulas used) then tested for effect size.\n",
    "\n",
    "Cohen H indicates small effect. h = .2: small effect, h = .5: medium effect, h = .8: large effect\n",
    "\n",
    "$H_{0}: \\hat{p}_{1} = \\hat{p}_{2}$ <br>\n",
    "$H_{a}: \\hat{p}_{1} \\ne \\hat{p}_{2}$"
   ]
  },
  {
   "cell_type": "code",
   "execution_count": 5,
   "metadata": {},
   "outputs": [
    {
     "name": "stdout",
     "output_type": "stream",
     "text": [
      "pval         0.071\n",
      "cohen's h    0.257\n",
      "empl_p       0.180\n",
      "attr_p       0.280\n",
      "dtype: float64\n"
     ]
    },
    {
     "data": {
      "image/png": "[encoded data removed]",
      "text/plain": [
       "<Figure size 432x288 with 1 Axes>"
      ]
     },
     "metadata": {
      "needs_background": "light"
     },
     "output_type": "display_data"
    }
   ],
   "source": [
    "def freq_travel_test(empl_sample: pd.DataFrame, attr_sample: pd.DataFrame) -> None:\n",
    "    \n",
    "    def _freq_trav_obs(sample: pd.DataFrame) -> int:\n",
    "        sr = sample['BusinessTravel']\n",
    "        freq_sr = sr[sr == 'Travel_Frequently']\n",
    "        return freq_sr.count()\n",
    "    \n",
    "    \n",
    "    empl_obs = _freq_trav_obs(empl_sample)\n",
    "    attr_obs = _freq_trav_obs(attr_sample)\n",
    "    \n",
    "    empl_n = empl_sample.shape[0]\n",
    "    attr_n = attr_sample.shape[0]\n",
    "    \n",
    "    empl_p = empl_obs / empl_n\n",
    "    attr_p = attr_obs / attr_n\n",
    "    \n",
    "\n",
    "    dict_ = {\n",
    "        'pval': [utils.proportions_pval(x1=empl_obs, x2=attr_obs, n1=empl_n, n2=attr_n)],\n",
    "        \"cohen's h\": [utils.cohen_h(empl_p, attr_p)],\n",
    "        'empl_p': [empl_p],\n",
    "        'attr_p': [attr_p]\n",
    "    }\n",
    "    return pd.DataFrame(dict_)\n",
    "\n",
    "\n",
    "def plot_freq_travel_proportions(freq_trav_results: pd.Series) -> None:\n",
    "    empl_p = freq_trav_results.at['empl_p']\n",
    "    attr_p = freq_trav_results.at['attr_p']\n",
    "    \n",
    "    data = {'Sample': ['Employed', 'Attrited'], 'Proportion': [empl_p, attr_p]}\n",
    "    proportions_df = pd.DataFrame(data)\n",
    "    \n",
    "    plot = sns.barplot(data=proportions_df, x='Proportion', y='Sample', orient='h', width=0.6)\n",
    "    for container in plot.containers:\n",
    "        plot.bar_label(container)\n",
    "        \n",
    "    plot.set(ylabel=None)\n",
    "    \n",
    "    xlim = empl_p * 1.5 if empl_p > attr_p else attr_p * 1.5\n",
    "    plot.set_xlim(0, xlim)\n",
    "    plt.show()\n",
    "\n",
    "\n",
    "results = utils.run_test(samples(is_employed=True), samples(is_employed=False), func=freq_travel_test)\n",
    "results = utils.median_(results)\n",
    "\n",
    "print(results)\n",
    "plot_freq_travel_proportions(results)"
   ]
  },
  {
   "cell_type": "markdown",
   "metadata": {},
   "source": [
    "## Attrition by Department"
   ]
  },
  {
   "cell_type": "code",
   "execution_count": 6,
   "metadata": {},
   "outputs": [
    {
     "name": "stdout",
     "output_type": "stream",
     "text": [
      "\n",
      "PROPORTIONS\n",
      "---------------\n",
      "  Group  Department  Proportion\n",
      "0  Attr  Cardiology        0.38\n",
      "1  Attr   Maternity        0.49\n",
      "2  Attr   Neurology        0.14\n",
      "3  Empl  Cardiology        0.31\n",
      "4  Empl   Maternity        0.47\n",
      "5  Empl   Neurology        0.21 \n",
      "\n",
      "\n",
      "SIGNIFICANCE\n",
      "---------------\n",
      "Cardiology pval: 0.933\n",
      "Cardiology Cohen's h: 0.147\n",
      "\n",
      "Maternity pval: 0.984\n",
      "Maternity Cohen's h: 0.04\n",
      "\n",
      "Neurology pval: 0.906\n",
      "Neurology Cohen's h: 0.185\n",
      "\n",
      "\n",
      "CHART\n",
      "---------------\n"
     ]
    },
    {
     "data": {
      "image/png": "[encoded data removed]",
      "text/plain": [
       "<Figure size 432x288 with 1 Axes>"
      ]
     },
     "metadata": {
      "needs_background": "light"
     },
     "output_type": "display_data"
    }
   ],
   "source": [
    "group_str = 'Group'\n",
    "dept_str = 'Department'\n",
    "prop_str = 'Proportion'\n",
    "\n",
    "\n",
    "def gather_dept_proportions(empl_sample: pd.DataFrame, attr_sample: pd.DataFrame) -> pd.DataFrame:\n",
    "    \n",
    "    def _calc_proportions(sample: pd.DataFrame, *, is_empl_sample: bool) -> pd.DataFrame:\n",
    "        '''\n",
    "        Counts observations and calculates proportions by department. \n",
    "\n",
    "        @param:\n",
    "            sample (pd.DataFrame): independent sample\n",
    "\n",
    "        @returns:\n",
    "            pd.DataFrame: a DataFrame with proportions of observations. Columns are Group, Department, Proportion.\n",
    "        '''\n",
    "        dept_sr = sample[dept_str]\n",
    "        \n",
    "        values_df = dept_sr.value_counts().to_frame().reset_index()\n",
    "        values_df = values_df.rename(columns={dept_str: 'Count', 'index': dept_str})\n",
    "\n",
    "        col1 = group_str\n",
    "        col2 = dept_str\n",
    "        col3 = prop_str\n",
    "        df = pd.DataFrame(columns=[col1, col2, col3])\n",
    "        \n",
    "        n = sample.shape[0]\n",
    "        group = 'Empl' if is_empl_sample else 'Attr'\n",
    "        for row in values_df.itertuples():\n",
    "            proportion = row.Count / n\n",
    "            \n",
    "            new_row = {\n",
    "                col1: [group], \n",
    "                col2: [row.Department], \n",
    "                col3: [proportion]\n",
    "            }\n",
    "            df = pd.concat([df, pd.DataFrame(new_row)])\n",
    "        return df\n",
    "    \n",
    "    \n",
    "    empl_df = _calc_proportions(empl_sample, is_empl_sample=True)\n",
    "    attr_df = _calc_proportions(attr_sample, is_empl_sample=False)\n",
    "    \n",
    "    return pd.concat([empl_df, attr_df]).reset_index(drop=True)\n",
    "\n",
    "\n",
    "def dept_proportions(func: Callable, empl_samples: List, attr_samples: List) -> None:\n",
    "    p_df = utils.run_test(empl_samples, attr_samples, func=func)\n",
    "    p_df = p_df.groupby([group_str, dept_str], as_index=False).median()\n",
    "    return p_df\n",
    "    \n",
    "    \n",
    "def test_dept_significance(results_df: pd.DataFrame, n: int) -> None:\n",
    "    departments = results_df[dept_str].drop_duplicates()\n",
    "    \n",
    "    print(utils.create_title('significance'))\n",
    "    \n",
    "    for dept in departments:\n",
    "        p = results_df[results_df[dept_str] == dept][prop_str].tolist()\n",
    "        \n",
    "        pval = utils.proportions_pval(x1=p[0], n1=n, x2=p[1], n2=n)\n",
    "        h = utils.cohen_h(p[0], p[1])\n",
    "        \n",
    "        print(f'{dept} pval: {round(pval, 3)}')\n",
    "        print(f'{dept} Cohen\\'s h: {round(h, 3)}\\n')\n",
    "\n",
    "        \n",
    "def plot_dept_proportions(results_df: pd.DataFrame) -> None:\n",
    "    print(utils.create_title('chart'))\n",
    "    \n",
    "    order = ['Empl', 'Attr']\n",
    "    plot = sns.barplot(data=results_df, x=prop_str, y=dept_str, hue=group_str,\n",
    "                       orient='h', hue_order=order)\n",
    "    plot.set(ylabel=None)\n",
    "    plt.show()\n",
    "    \n",
    "    \n",
    "dept_proportions_df = dept_proportions(gather_dept_proportions, samples(is_employed=True), samples(is_employed=False))\n",
    "\n",
    "print(utils.create_title('proportions'))\n",
    "print(dept_proportions_df, '\\n')\n",
    "\n",
    "test_dept_significance(dept_proportions_df, sample_size) # TODO: Fix sample size issue. I want a more accurate size.\n",
    "plot_dept_proportions(dept_proportions_df)"
   ]
  },
  {
   "cell_type": "markdown",
   "metadata": {},
   "source": [
    "## Attrition by Commute"
   ]
  },
  {
   "cell_type": "code",
   "execution_count": 7,
   "metadata": {},
   "outputs": [
    {
     "name": "stdout",
     "output_type": "stream",
     "text": [
      "pval                 0.020\n",
      "cohens_d             0.329\n",
      "ci_68_lower          1.000\n",
      "ci_68_upper         17.000\n",
      "empl_p_within_ci     0.810\n",
      "attr_p_within_ci     0.690\n",
      "empl_mean            8.000\n",
      "attr_mean           11.000\n",
      "dtype: float64\n"
     ]
    }
   ],
   "source": [
    "commute_df = utils.run_test(samples(is_employed=True),\n",
    "                            samples(is_employed=False),\n",
    "                            need_mean=True,\n",
    "                            colname='DistanceFromHome')\n",
    "\n",
    "\n",
    "print(utils.median_(commute_df))\n",
    "# Todo: plot"
   ]
  },
  {
   "cell_type": "markdown",
   "metadata": {},
   "source": [
    "## Attrition by Gender"
   ]
  },
  {
   "cell_type": "code",
   "execution_count": 8,
   "metadata": {},
   "outputs": [
    {
     "name": "stdout",
     "output_type": "stream",
     "text": [
      "Male      58\n",
      "Female    42\n",
      "Name: Gender, dtype: int64 \n",
      " Male      59\n",
      "Female    41\n",
      "Name: Gender, dtype: int64\n",
      "\n",
      "SIGNIFICANCE\n",
      "---------------\n",
      "Male\n",
      "58 59\n",
      "Male pval: 0.886\n",
      " Cohen's h: 0.02\n",
      "\n",
      "Female\n",
      "42 41\n",
      "Female pval: 0.886\n",
      " Cohen's h: 0.02\n",
      "\n"
     ]
    }
   ],
   "source": [
    "empl_g_sample = samples(is_employed=True)[0]['Gender']\n",
    "attr_g_sample = samples(is_employed=False)[0]['Gender']\n",
    "\n",
    "def test_gender_significance(sr: pd.DataFrame, sr2: pd.Series, n: int) -> None:\n",
    "    genders = ['Male', 'Female']\n",
    "    \n",
    "    print(utils.create_title('significance'))\n",
    "    \n",
    "    for gender in genders:\n",
    "        print(gender)\n",
    "        x1 = sr.at[gender]\n",
    "        x2 = sr2.at[gender]\n",
    "        p1 = x1/n\n",
    "        p2 = x2/n\n",
    "        print(x1, x2)\n",
    "        pval = utils.proportions_pval(x1=x1, n1=n, x2=x2, n2=n)\n",
    "        h = utils.cohen_h(p1, p2)\n",
    "        \n",
    "        print(f'{gender} pval: {round(pval, 3)}')\n",
    "        print(f' Cohen\\'s h: {round(h, 3)}\\n')\n",
    "\n",
    "        \n",
    "emplvcounts = empl_g_sample.value_counts()\n",
    "attrvcounts = attr_g_sample.value_counts()\n",
    "print(emplvcounts, '\\n', attrvcounts)\n",
    "\n",
    "test_gender_significance(emplvcounts, attrvcounts, sample_size)\n",
    "# TODO: There is always the same difference between obs for both male & female. Figure out why.\n",
    "# TODO: Create Plot\n",
    "# TODO: Run test 21 times"
   ]
  },
  {
   "cell_type": "markdown",
   "metadata": {},
   "source": [
    "## Attrition by Hourly Rate"
   ]
  },
  {
   "cell_type": "code",
   "execution_count": 9,
   "metadata": {},
   "outputs": [
    {
     "name": "stdout",
     "output_type": "stream",
     "text": [
      "pval                 0.300\n",
      "cohens_d             0.147\n",
      "ci_68_lower         44.000\n",
      "ci_68_upper         82.000\n",
      "empl_p_within_ci     0.570\n",
      "attr_p_within_ci     0.620\n",
      "empl_mean           66.000\n",
      "attr_mean           62.000\n",
      "dtype: float64\n"
     ]
    }
   ],
   "source": [
    "hourlyrate_df = utils.run_test(samples(is_employed=True),\n",
    "                            samples(is_employed=False),\n",
    "                            need_mean=True,\n",
    "                            colname='HourlyRate')\n",
    "\n",
    "\n",
    "print(utils.median_(hourlyrate_df))\n",
    "# Todo: plot"
   ]
  },
  {
   "cell_type": "markdown",
   "metadata": {},
   "source": [
    "## Attrition by Tenure"
   ]
  },
  {
   "cell_type": "code",
   "execution_count": 10,
   "metadata": {},
   "outputs": [
    {
     "name": "stdout",
     "output_type": "stream",
     "text": [
      "pval                0.000\n",
      "cohens_d            0.731\n",
      "ci_68_lower         0.000\n",
      "ci_68_upper         8.000\n",
      "empl_p_within_ci    0.660\n",
      "attr_p_within_ci    0.890\n",
      "empl_mean           7.000\n",
      "attr_mean           3.000\n",
      "dtype: float64\n"
     ]
    }
   ],
   "source": [
    "tenure_df = utils.run_test(samples(is_employed=True),\n",
    "                            samples(is_employed=False),\n",
    "                            need_mean=True,\n",
    "                            colname='YearsAtCompany')\n",
    "\n",
    "\n",
    "print(utils.median_(tenure_df))\n",
    "# Todo: plot"
   ]
  },
  {
   "cell_type": "markdown",
   "metadata": {},
   "source": [
    "## Attrition by YearsSinceLastPromotion"
   ]
  },
  {
   "cell_type": "code",
   "execution_count": 11,
   "metadata": {},
   "outputs": [
    {
     "name": "stdout",
     "output_type": "stream",
     "text": [
      "pval                0.027\n",
      "cohens_d            0.313\n",
      "ci_68_lower         0.000\n",
      "ci_68_upper         4.000\n",
      "empl_p_within_ci    0.830\n",
      "attr_p_within_ci    0.900\n",
      "empl_mean           2.000\n",
      "attr_mean           1.000\n",
      "dtype: float64\n"
     ]
    }
   ],
   "source": [
    "promotion_df = utils.run_test(samples(is_employed=True),\n",
    "                            samples(is_employed=False),\n",
    "                            need_mean=True,\n",
    "                            colname='YearsSinceLastPromotion')\n",
    "\n",
    "\n",
    "print(utils.median_(promotion_df))\n",
    "# Todo: plot"
   ]
  },
  {
   "cell_type": "markdown",
   "metadata": {},
   "source": [
    "## Attrition by Management"
   ]
  },
  {
   "cell_type": "code",
   "execution_count": 12,
   "metadata": {},
   "outputs": [
    {
     "name": "stdout",
     "output_type": "stream",
     "text": [
      "pval                0.00\n",
      "cohens_d            0.70\n",
      "ci_68_lower         0.00\n",
      "ci_68_upper         5.00\n",
      "empl_p_within_ci    0.60\n",
      "attr_p_within_ci    0.83\n",
      "empl_mean           4.00\n",
      "attr_mean           2.00\n",
      "dtype: float64\n"
     ]
    }
   ],
   "source": [
    "mgmt_df = utils.run_test(samples(is_employed=True),\n",
    "                            samples(is_employed=False),\n",
    "                            need_mean=True,\n",
    "                            colname='YearsWithCurrManager')\n",
    "\n",
    "\n",
    "print(utils.median_(mgmt_df))\n",
    "# Todo: plot"
   ]
  }
 ],
 "metadata": {
  "interpreter": {
   "hash": "4e428d245141f965806a18534d980cc569cf870a68699e4c65f89e546af4fbc1"
  },
  "kernelspec": {
   "display_name": "Python 3.8.2 64-bit ('venv': venv)",
   "name": "python3"
  },
  "language_info": {
   "codemirror_mode": {
    "name": "ipython",
    "version": 3
   },
   "file_extension": ".py",
   "mimetype": "text/x-python",
   "name": "python",
   "nbconvert_exporter": "python",
   "pygments_lexer": "ipython3",
   "version": "3.8.2"
  }
 },
 "nbformat": 4,
 "nbformat_minor": 2
}
