{
 "cells": [
  {
   "cell_type": "markdown",
   "metadata": {},
   "source": [
    "#### Scenario\n",
    "A healthcare provider initiated an attrition analysis. They wish to know their current attrition rate and, if the rate is greater than ten percent, what are the contributing factors and potential solutions.\n",
    "\n",
    "#### Problem Statement\n",
    "How can we increase employee retention while minimizing costs?"
   ]
  },
  {
   "cell_type": "code",
   "execution_count": 1,
   "metadata": {},
   "outputs": [],
   "source": [
    "import decimal\n",
    "import matplotlib.pyplot as plt\n",
    "from pathlib import Path\n",
    "from typing import List, Dict, Tuple, Callable\n",
    "from math import ceil, sqrt, modf\n",
    "\n",
    "import pandas as pd\n",
    "import seaborn as sns\n",
    "from pandasql import sqldf\n",
    "from statistics import median, stdev\n",
    "from statsmodels.stats.weightstats import ztest\n",
    "\n",
    "import utils\n",
    "\n",
    "# Import file\n",
    "filename = 'data/healthcare_attrition.csv'\n",
    "raw_df = pd.read_csv(Path(utils.root(), filename), sep=',')"
   ]
  },
  {
   "cell_type": "markdown",
   "metadata": {},
   "source": [
    "### Samples\n",
    "talk about how you got the sizes and got the sample. Used sample size calculator to determine sample size."
   ]
  },
  {
   "cell_type": "code",
   "execution_count": 2,
   "metadata": {},
   "outputs": [],
   "source": [
    "sample_size = 100\n",
    "def samples(*, is_employed: bool) -> List:\n",
    "    population = None\n",
    "    num_of_samples = 21\n",
    "    \n",
    "    if is_employed:\n",
    "        population = raw_df.query(\"Attrition == 'No'\")\n",
    "    else:\n",
    "        population = raw_df.query(\"Attrition == 'Yes'\")\n",
    "    \n",
    "    lst = []\n",
    "    for x in range(num_of_samples):\n",
    "        sample_ = population.sample(n=sample_size).reset_index(drop=True)\n",
    "        lst.append(sample_)\n",
    "    return lst"
   ]
  },
  {
   "cell_type": "markdown",
   "metadata": {},
   "source": [
    "## Attrition Rate"
   ]
  },
  {
   "cell_type": "code",
   "execution_count": 3,
   "metadata": {},
   "outputs": [
    {
     "name": "stdout",
     "output_type": "stream",
     "text": [
      "The attrition rate is approximately 12.0%\n"
     ]
    }
   ],
   "source": [
    "# ATTRITION RATE\n",
    "attrition_sr = raw_df['Attrition'] # isolating Attrition column\n",
    "\n",
    "attrition_count = attrition_sr.value_counts()['Yes']\n",
    "num_of_employees = attrition_sr.count()\n",
    "\n",
    "attrition_rate_percentage = round(attrition_count / num_of_employees, 2) * 100\n",
    "print(f'The attrition rate is approximately {attrition_rate_percentage}%')\n",
    "# TODO: Double check attrition rate"
   ]
  },
  {
   "cell_type": "markdown",
   "metadata": {},
   "source": [
    "## Attrition by Age\n",
    "***\n",
    "$H_{0}: \\bar{x}_{1} = \\bar{x}_{2}$ <br>\n",
    "$H_{a}: \\bar{x}_{1} \\ne \\bar{x}_{2}$"
   ]
  },
  {
   "cell_type": "code",
   "execution_count": 41,
   "metadata": {},
   "outputs": [
    {
     "data": {
      "image/png": "[encoded data removed]",
      "text/plain": [
       "<Figure size 432x288 with 1 Axes>"
      ]
     },
     "metadata": {
      "needs_background": "light"
     },
     "output_type": "display_data"
    },
    {
     "name": "stdout",
     "output_type": "stream",
     "text": [
      "pval              0.000\n",
      "cohens_d          0.745\n",
      "ci_lower         22.000\n",
      "ci_upper         40.000\n",
      "empl_p            0.650\n",
      "attr_p            0.720\n",
      "empl_age_mean    37.000\n",
      "attr_age_mean    31.000\n",
      "dtype: float64\n"
     ]
    }
   ],
   "source": [
    "def age_test(empl_sample: pd.DataFrame, attr_sample: pd.DataFrame) -> pd.DataFrame:\n",
    "    empl_age_sample = empl_sample['Age']\n",
    "    attr_age_sample = attr_sample['Age']\n",
    "    \n",
    "    pval = utils.pval_unequal_stdev(empl_age_sample, attr_age_sample)\n",
    "    cohens_d = utils.cohens_d(empl_age_sample, attr_age_sample)\n",
    "    \n",
    "    ci, empl_p, attr_p = utils.ci(empl_age_sample, attr_age_sample)\n",
    "    empl_mean, attr_mean = utils.means(empl_age_sample, attr_age_sample)\n",
    "    \n",
    "    dict_ = {\n",
    "        'pval': [pval],\n",
    "        'cohens_d': [cohens_d],\n",
    "        'ci_lower': [ci[0]],\n",
    "        'ci_upper': [ci[1]],\n",
    "        'empl_p': [empl_p],\n",
    "        'attr_p': [attr_p],\n",
    "        'empl_age_mean': [empl_mean],\n",
    "        'attr_age_mean': [attr_mean]\n",
    "    }\n",
    "    return pd.DataFrame(dict_)\n",
    "\n",
    "\n",
    "def plot_mean_ages(empl_age: float, attr_age: float) -> None:\n",
    "    y = ['Employed', 'Attrited']\n",
    "    x = [empl_age, attr_age]\n",
    "\n",
    "    plt.barh(y, x)\n",
    "    plt.xlabel(\"Age\")\n",
    "    plt.title(\"Median Age\")\n",
    "    plt.show()\n",
    "\n",
    "\n",
    "results = utils.run_test(age_test, samples(is_employed=True), samples(is_employed=False), is_all_quant=True)\n",
    "plot_mean_ages(results['empl_age_mean'], results['attr_age_mean'])\n",
    "print(results)\n",
    "# TODO: use seaborn to plot median age"
   ]
  },
  {
   "cell_type": "markdown",
   "metadata": {},
   "source": [
    "## Attrition by Frequent Travel\n",
    "***\n",
    "Write here about how you came to your conclusion, how the data is statistically relevant, and the effect size. This would include formulas for the ztest, pooled proportion, etc. Talk about how you tested for significance (and the formulas used) then tested for effect size.\n",
    "\n",
    "Cohen H indicates small effect. h = .2: small effect, h = .5: medium effect, h = .8: large effect\n",
    "\n",
    "$H_{0}: \\hat{p}_{1} = \\hat{p}_{2}$ <br>\n",
    "$H_{a}: \\hat{p}_{1} \\ne \\hat{p}_{2}$"
   ]
  },
  {
   "cell_type": "code",
   "execution_count": 39,
   "metadata": {},
   "outputs": [
    {
     "name": "stdout",
     "output_type": "stream",
     "text": [
      "pval         0.067\n",
      "cohen's h    0.261\n",
      "empl_p       0.180\n",
      "attr_p       0.290\n",
      "dtype: float64\n"
     ]
    },
    {
     "data": {
      "image/png": "[encoded data removed]",
      "text/plain": [
       "<Figure size 432x288 with 1 Axes>"
      ]
     },
     "metadata": {
      "needs_background": "light"
     },
     "output_type": "display_data"
    }
   ],
   "source": [
    "def freq_travel_test(empl_sample: pd.DataFrame, attr_sample: pd.DataFrame) -> None:\n",
    "    \n",
    "    def _freq_trav_obs(sample: pd.DataFrame) -> int:\n",
    "        sr = sample['BusinessTravel']\n",
    "        freq_sr = sr[sr == 'Travel_Frequently']\n",
    "        return freq_sr.count()\n",
    "    \n",
    "    \n",
    "    empl_obs = _freq_trav_obs(empl_sample)\n",
    "    attr_obs = _freq_trav_obs(attr_sample)\n",
    "    \n",
    "    empl_n = empl_sample.shape[0]\n",
    "    attr_n = attr_sample.shape[0]\n",
    "    \n",
    "    empl_p = empl_obs / empl_n\n",
    "    attr_p = attr_obs / attr_n\n",
    "    \n",
    "\n",
    "    dict_ = {\n",
    "        'pval': [utils.proportions_pval(x1=empl_obs, x2=attr_obs, n1=empl_n, n2=attr_n)],\n",
    "        \"cohen's h\": [utils.cohen_h(empl_p, attr_p)],\n",
    "        'empl_p': [empl_p],\n",
    "        'attr_p': [attr_p]\n",
    "    }\n",
    "    return pd.DataFrame(dict_)\n",
    "\n",
    "\n",
    "def plot_freq_travel_proportions(freq_trav_results: pd.Series) -> None:\n",
    "    empl_p = freq_trav_results.at['empl_p']\n",
    "    attr_p = freq_trav_results.at['attr_p']\n",
    "    \n",
    "    data = {'Sample': ['Employed', 'Attrited'], 'Proportion': [empl_p, attr_p]}\n",
    "    proportions_df = pd.DataFrame(data)\n",
    "    \n",
    "    plot = sns.barplot(data=proportions_df, x='Proportion', y='Sample', orient='h', width=0.6)\n",
    "    for container in plot.containers:\n",
    "        plot.bar_label(container)\n",
    "        \n",
    "    plot.set(ylabel=None)\n",
    "    \n",
    "    xlim = empl_p * 1.5 if empl_p > attr_p else attr_p * 1.5\n",
    "    plot.set_xlim(0, xlim)\n",
    "    plt.show()\n",
    "\n",
    "\n",
    "results = utils.run_test(freq_travel_test, samples(is_employed=True), samples(is_employed=False), is_all_quant=True)\n",
    "\n",
    "print(results)\n",
    "plot_freq_travel_proportions(results)"
   ]
  },
  {
   "cell_type": "markdown",
   "metadata": {},
   "source": [
    "## Attrition by Department"
   ]
  },
  {
   "cell_type": "code",
   "execution_count": 28,
   "metadata": {},
   "outputs": [
    {
     "name": "stdout",
     "output_type": "stream",
     "text": [
      "  Group  Department  Proportion\n",
      "0  Attr  Cardiology        0.37\n",
      "1  Attr   Maternity        0.51\n",
      "2  Attr   Neurology        0.13\n",
      "3  Empl  Cardiology        0.30\n",
      "4  Empl   Maternity        0.47\n",
      "5  Empl   Neurology        0.22 \n",
      "\n",
      "\n",
      "SIGNIFICANCE\n",
      "---------------\n",
      "Cardiology pval: 0.932\n",
      "Cardiology Cohen's h: 0.148\n",
      "\n",
      "Maternity pval: 0.968\n",
      "Maternity Cohen's h: 0.08\n",
      "\n",
      "Neurology pval: 0.879\n",
      "Neurology Cohen's h: 0.239\n",
      "\n",
      "\n",
      "CHART\n",
      "---------------\n"
     ]
    },
    {
     "data": {
      "image/png": "[encoded data removed]",
      "text/plain": [
       "<Figure size 432x288 with 1 Axes>"
      ]
     },
     "metadata": {
      "needs_background": "light"
     },
     "output_type": "display_data"
    }
   ],
   "source": [
    "def gather_dept_proportions(empl_sample: pd.DataFrame, attr_sample: pd.DataFrame) -> pd.DataFrame:\n",
    "    \n",
    "    def calc_proportions(sample: pd.DataFrame, *, is_empl_sample: bool) -> pd.DataFrame:\n",
    "        '''\n",
    "        Counts observations and calculates proportions by department. \n",
    "\n",
    "        @param:\n",
    "            sample (pd.DataFrame): independent sample\n",
    "\n",
    "        @returns:\n",
    "            pd.DataFrame: a DataFrame with proportions of observations. Columns are Group, Department, Proportion.\n",
    "        '''\n",
    "        dept_str = 'Department'\n",
    "        dept_sr = sample[dept_str]\n",
    "        \n",
    "        values_df = dept_sr.value_counts().to_frame().reset_index()\n",
    "        values_df = values_df.rename(columns={dept_str: 'Count', 'index': dept_str})\n",
    "\n",
    "        col1 = 'Group'\n",
    "        col2 = dept_str\n",
    "        col3 = 'Proportion'\n",
    "        df = pd.DataFrame(columns=[col1, col2, col3])\n",
    "        \n",
    "        n = sample.shape[0]\n",
    "        group = 'Empl' if is_empl_sample else 'Attr'\n",
    "        for row in values_df.itertuples():\n",
    "            proportion = row.Count / n\n",
    "            \n",
    "            new_row = {\n",
    "                col1: [group], \n",
    "                col2: [row.Department], \n",
    "                col3: [proportion]\n",
    "            }\n",
    "            df = pd.concat([df, pd.DataFrame(new_row)])\n",
    "        return df\n",
    "    \n",
    "    \n",
    "    empl_df = calc_proportions(empl_sample, is_empl_sample=True)\n",
    "    attr_df = calc_proportions(attr_sample, is_empl_sample=False)\n",
    "    \n",
    "    return pd.concat([empl_df, attr_df]).reset_index(drop=True)\n",
    "\n",
    "\n",
    "def dept_proportions(func: Callable, empl_samples: List, attr_samples: List) -> None:\n",
    "    p_df = utils.run_test(func, empl_samples, attr_samples)\n",
    "    p_df = p_df.groupby(['Group', 'Department'], as_index=False).median()\n",
    "    return p_df\n",
    "    \n",
    "    \n",
    "def test_dept_significance(results_df: pd.DataFrame, n: int) -> None:\n",
    "    dept_str = 'Department'\n",
    "    departments = results_df[dept_str].drop_duplicates()\n",
    "    \n",
    "    title = '\\nSIGNIFICANCE\\n---------------'\n",
    "    print(title)\n",
    "    \n",
    "    for dept in departments:\n",
    "        p = results_df[results_df[dept_str] == dept]['Proportion'].tolist()\n",
    "        \n",
    "        pval = utils.proportions_pval(x1=p[0], n1=n, x2=p[1], n2=n)\n",
    "        h = utils.cohen_h(p[0], p[1])\n",
    "        \n",
    "        print(f'{dept} pval: {round(pval, 3)}')\n",
    "        print(f'{dept} Cohen\\'s h: {round(h, 3)}\\n')\n",
    "\n",
    "        \n",
    "def plot_dept_proportions(results_df: pd.DataFrame) -> None:\n",
    "    title = '\\nCHART\\n---------------'\n",
    "    print(title)\n",
    "    \n",
    "    order = ['Empl', 'Attr']\n",
    "    plot = sns.barplot(data=results_df, x='Proportion', y='Department', hue='Group', orient='h', hue_order=order)\n",
    "    plot.set(ylabel=None)\n",
    "    plt.show()\n",
    "    \n",
    "    \n",
    "dept_proportions_df = dept_proportions(gather_dept_proportions, samples(is_employed=True), samples(is_employed=False))\n",
    "print(dept_proportions_df, '\\n')\n",
    "\n",
    "test_dept_significance(dept_proportions_df, sample_size)\n",
    "plot_dept_proportions(dept_proportions_df)"
   ]
  }
 ],
 "metadata": {
  "interpreter": {
   "hash": "4e428d245141f965806a18534d980cc569cf870a68699e4c65f89e546af4fbc1"
  },
  "kernelspec": {
   "display_name": "Python 3 (ipykernel)",
   "language": "python",
   "name": "python3"
  },
  "language_info": {
   "codemirror_mode": {
    "name": "ipython",
    "version": 3
   },
   "file_extension": ".py",
   "mimetype": "text/x-python",
   "name": "python",
   "nbconvert_exporter": "python",
   "pygments_lexer": "ipython3",
   "version": "3.8.2"
  }
 },
 "nbformat": 4,
 "nbformat_minor": 2
}
