{
 "cells": [
  {
   "cell_type": "markdown",
   "metadata": {},
   "source": [
    "#### Scenario\n",
    "A healthcare provider initiated an attrition analysis. They wish to know their current attrition rate and, if the rate is greater than ten percent, what are the contributing factors and potential solutions.\n",
    "\n",
    "#### Problem Statement\n",
    "How can we increase employee retention while minimizing costs?"
   ]
  },
  {
   "cell_type": "code",
   "execution_count": 4,
   "metadata": {},
   "outputs": [],
   "source": [
    "from pathlib import Path\n",
    "\n",
    "import pandas as pd\n",
    "from pandasql import sqldf\n",
    "\n",
    "import utils\n",
    "\n",
    "P_SQL = lambda q: sqldf(q, globals())"
   ]
  },
  {
   "cell_type": "code",
   "execution_count": 5,
   "metadata": {},
   "outputs": [],
   "source": [
    "# Import file\n",
    "filename = 'data/healthcare_attrition.csv'\n",
    "df = pd.read_csv(Path(utils.root(), filename), sep=',')"
   ]
  },
  {
   "cell_type": "code",
   "execution_count": 15,
   "metadata": {},
   "outputs": [
    {
     "name": "stdout",
     "output_type": "stream",
     "text": [
      "0.13\n"
     ]
    }
   ],
   "source": [
    "# Attrition Rate\n",
    "attrition_sr = df['Attrition'].value_counts()\n",
    "attrition_rate = round(attrition_sr['Yes'] / attrition_sr['No'], 2)\n",
    "print(attrition_rate)\n",
    "\n",
    "# Attrition rate is 13%"
   ]
  },
  {
   "cell_type": "code",
   "execution_count": 16,
   "metadata": {},
   "outputs": [
    {
     "name": "stdout",
     "output_type": "stream",
     "text": [
      "145\n",
      "199\n",
      "0.7286432160804021\n",
      "(22, 40)\n"
     ]
    }
   ],
   "source": [
    "# Ages most affected by attrition\n",
    "\n",
    "attrition_by_age_query = '''\n",
    "SELECT employeeid, age, attrition\n",
    "FROM df\n",
    "WHERE attrition = 'Yes'\n",
    "'''\n",
    "\n",
    "resultset = P_SQL(attrition_by_age_query)\n",
    "attrition_age_sr = resultset['Age']\n",
    "\n",
    "population_size = resultset['EmployeeID'].count()\n",
    "\n",
    "#\n",
    "empirical_rule_68 = utils.stats(attrition_age_sr)['empirical_rule_68']\n",
    "count = sum(i >= 22 and i <= 40 for i in attrition_age_sr)\n",
    "\n",
    "print(count)\n",
    "print(population_size)\n",
    "print(count / population_size)\n",
    "\n",
    "print()\n"
   ]
  }
 ],
 "metadata": {
  "interpreter": {
   "hash": "4e428d245141f965806a18534d980cc569cf870a68699e4c65f89e546af4fbc1"
  },
  "kernelspec": {
   "display_name": "Python 3.8.2 64-bit ('venv': venv)",
   "name": "python3"
  },
  "language_info": {
   "codemirror_mode": {
    "name": "ipython",
    "version": 3
   },
   "file_extension": ".py",
   "mimetype": "text/x-python",
   "name": "python",
   "nbconvert_exporter": "python",
   "pygments_lexer": "ipython3",
   "version": "3.8.2"
  },
  "orig_nbformat": 4
 },
 "nbformat": 4,
 "nbformat_minor": 2
}
